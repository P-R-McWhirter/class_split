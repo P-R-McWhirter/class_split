{
 "cells": [
  {
   "cell_type": "code",
   "execution_count": 1,
   "metadata": {},
   "outputs": [],
   "source": [
    "import cv2\n",
    "import numpy as np\n",
    "from matplotlib import pyplot as plt\n",
    "import os\n",
    "import csv\n",
    "import pandas as pd"
   ]
  },
  {
   "cell_type": "code",
   "execution_count": 2,
   "metadata": {},
   "outputs": [],
   "source": [
    "imgs = []\n",
    "cwd = os.getcwd()\n",
    "\n",
    "for file in os.listdir(cwd):\n",
    "    if file.endswith(\".png\"):\n",
    "        imgs.append(cwd + \"\\\\\" + file)\n",
    "        \n",
    "imgs = np.sort(imgs)"
   ]
  },
  {
   "cell_type": "code",
   "execution_count": 3,
   "metadata": {},
   "outputs": [],
   "source": [
    "for img in imgs:\n",
    "    labels = pd.read_csv(img[:-4] + \".txt\", sep = \" \", header = None).values\n",
    "    if np.std(labels[:,0]) > 0:\n",
    "        os.remove(img)\n",
    "        os.remove(img[:-4] + \".txt\")"
   ]
  },
  {
   "cell_type": "code",
   "execution_count": 4,
   "metadata": {},
   "outputs": [],
   "source": [
    "imgs = []\n",
    "cwd = os.getcwd()\n",
    "\n",
    "for file in os.listdir(cwd):\n",
    "    if file.endswith(\".png\"):\n",
    "        imgs.append(cwd + \"\\\\\" + file)\n",
    "        \n",
    "imgs = np.sort(imgs)"
   ]
  },
  {
   "cell_type": "code",
   "execution_count": 5,
   "metadata": {},
   "outputs": [],
   "source": [
    "imgs_0 = []\n",
    "imgs_1 = []\n",
    "imgs_2 = []\n",
    "imgs_3 = []\n",
    "\n",
    "for img in imgs:\n",
    "    labels = pd.read_csv(img[:-4] + \".txt\", sep = \" \", header = None).values\n",
    "    if labels[0,0] == 0:\n",
    "        imgs_0.append(img)\n",
    "    elif labels[0,0] == 1:\n",
    "        imgs_1.append(img)\n",
    "    elif labels[0,0] == 2:\n",
    "        imgs_2.append(img)\n",
    "    elif labels[0,0] == 3:\n",
    "        imgs_3.append(img)"
   ]
  },
  {
   "cell_type": "code",
   "execution_count": 6,
   "metadata": {},
   "outputs": [
    {
     "name": "stdout",
     "output_type": "stream",
     "text": [
      "152 123 637 530\n"
     ]
    }
   ],
   "source": [
    "print(len(imgs_0), len(imgs_1), len(imgs_2), len(imgs_3))"
   ]
  },
  {
   "cell_type": "code",
   "execution_count": 7,
   "metadata": {},
   "outputs": [],
   "source": [
    "if int(len(imgs_0)/50) > 0:\n",
    "    imgs_0_keep = imgs_0[::int(len(imgs_0)/50)]\n",
    "else:\n",
    "    imgs_0_keep = imgs_0\n",
    "\n",
    "if int(len(imgs_1)/50) > 0:\n",
    "    imgs_1_keep = imgs_1[::int(len(imgs_1)/50)]\n",
    "else:\n",
    "    imgs_1_keep = imgs_1\n",
    "\n",
    "if int(len(imgs_2)/50) > 0:\n",
    "    imgs_2_keep = imgs_2[::int(len(imgs_2)/50)]\n",
    "else:\n",
    "    imgs_2_keep = imgs_2\n",
    "    \n",
    "if int(len(imgs_3)/50) > 0:\n",
    "    imgs_3_keep = imgs_3[::int(len(imgs_3)/50)]\n",
    "else:\n",
    "    imgs_3_keep = imgs_3"
   ]
  },
  {
   "cell_type": "code",
   "execution_count": 8,
   "metadata": {},
   "outputs": [],
   "source": [
    "imgs_0_rem = [item for item in imgs_0 if item not in imgs_0_keep]\n",
    "imgs_1_rem = [item for item in imgs_1 if item not in imgs_1_keep]\n",
    "imgs_2_rem = [item for item in imgs_2 if item not in imgs_2_keep]\n",
    "imgs_3_rem = [item for item in imgs_3 if item not in imgs_3_keep]"
   ]
  },
  {
   "cell_type": "code",
   "execution_count": 9,
   "metadata": {},
   "outputs": [],
   "source": [
    "for img in imgs_0_rem:\n",
    "    os.remove(img)\n",
    "    os.remove(img[:-4] + \".txt\")\n",
    "for img in imgs_1_rem:\n",
    "    os.remove(img)\n",
    "    os.remove(img[:-4] + \".txt\")\n",
    "for img in imgs_2_rem:\n",
    "    os.remove(img)\n",
    "    os.remove(img[:-4] + \".txt\")\n",
    "for img in imgs_3_rem:\n",
    "    os.remove(img)\n",
    "    os.remove(img[:-4] + \".txt\")"
   ]
  },
  {
   "cell_type": "code",
   "execution_count": 10,
   "metadata": {},
   "outputs": [
    {
     "name": "stdout",
     "output_type": "stream",
     "text": [
      "51 62 54 53\n"
     ]
    }
   ],
   "source": [
    "print(len(imgs_0_keep), len(imgs_1_keep), len(imgs_2_keep), len(imgs_3_keep))"
   ]
  }
 ],
 "metadata": {
  "kernelspec": {
   "display_name": "TensorFlow-GPU",
   "language": "python",
   "name": "tf-gpu"
  },
  "language_info": {
   "codemirror_mode": {
    "name": "ipython",
    "version": 3
   },
   "file_extension": ".py",
   "mimetype": "text/x-python",
   "name": "python",
   "nbconvert_exporter": "python",
   "pygments_lexer": "ipython3",
   "version": "3.6.8"
  }
 },
 "nbformat": 4,
 "nbformat_minor": 2
}
